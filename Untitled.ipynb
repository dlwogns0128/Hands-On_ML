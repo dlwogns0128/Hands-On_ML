{
 "cells": [
  {
   "cell_type": "code",
   "execution_count": 1,
   "metadata": {},
   "outputs": [],
   "source": [
    "import os, shutil\n",
    "\n",
    "original_dataset_dir = './cats_and_dogs/train/'\n",
    "\n",
    "base_dir = './cats_and_dogs_small'\n",
    "if os.path.exists(base_dir):  # 반복적인 실행을 위해 디렉토리를 삭제합니다.\n",
    "    shutil.rmtree(base_dir)   # 이 코드는 책에 포함되어 있지 않습니다.\n",
    "os.mkdir(base_dir)\n",
    "\n",
    "# 훈련, 검증, 테스트 분할을 위한 디렉터리\n",
    "train_dir = os.path.join(base_dir, 'train')\n",
    "os.mkdir(train_dir)\n",
    "validation_dir = os.path.join(base_dir, 'validation')\n",
    "os.mkdir(validation_dir)\n",
    "test_dir = os.path.join(base_dir, 'test')\n",
    "os.mkdir(test_dir)\n",
    "\n",
    "# 훈련용 고양이 사진 디렉터리\n",
    "train_cats_dir = os.path.join(train_dir, 'cats')\n",
    "os.mkdir(train_cats_dir)\n",
    "\n",
    "# 훈련용 강아지 사진 디렉터리\n",
    "train_dogs_dir = os.path.join(train_dir, 'dogs')\n",
    "os.mkdir(train_dogs_dir)\n",
    "\n",
    "# 검증용 고양이 사진 디렉터리\n",
    "validation_cats_dir = os.path.join(validation_dir, 'cats')\n",
    "os.mkdir(validation_cats_dir)\n",
    "\n",
    "# 검증용 강아지 사진 디렉터리\n",
    "validation_dogs_dir = os.path.join(validation_dir, 'dogs')\n",
    "os.mkdir(validation_dogs_dir)\n",
    "\n",
    "# 테스트용 고양이 사진 디렉터리\n",
    "test_cats_dir = os.path.join(test_dir, 'cats')\n",
    "os.mkdir(test_cats_dir)\n",
    "\n",
    "# 테스트용 강아지 사진 디렉터리\n",
    "test_dogs_dir = os.path.join(test_dir, 'dogs')\n",
    "os.mkdir(test_dogs_dir)\n",
    "\n",
    "# 처음 1,000개의 고양이 이미지를 train_cats_dir에 복사합니다\n",
    "fnames = ['cat.{}.jpg'.format(i) for i in range(1000)]\n",
    "for fname in fnames:\n",
    "    src = os.path.join(original_dataset_dir, fname)\n",
    "    dst = os.path.join(train_cats_dir, fname)\n",
    "    shutil.copyfile(src, dst)\n",
    "\n",
    "# 다음 500개 고양이 이미지를 validation_cats_dir에 복사합니다\n",
    "fnames = ['cat.{}.jpg'.format(i) for i in range(1000, 1500)]\n",
    "for fname in fnames:\n",
    "    src = os.path.join(original_dataset_dir, fname)\n",
    "    dst = os.path.join(validation_cats_dir, fname)\n",
    "    shutil.copyfile(src, dst)\n",
    "    \n",
    "# 다음 500개 고양이 이미지를 test_cats_dir에 복사합니다\n",
    "fnames = ['cat.{}.jpg'.format(i) for i in range(1500, 2000)]\n",
    "for fname in fnames:\n",
    "    src = os.path.join(original_dataset_dir, fname)\n",
    "    dst = os.path.join(test_cats_dir, fname)\n",
    "    shutil.copyfile(src, dst)\n",
    "    \n",
    "# 처음 1,000개의 강아지 이미지를 train_dogs_dir에 복사합니다\n",
    "fnames = ['dog.{}.jpg'.format(i) for i in range(1000)]\n",
    "for fname in fnames:\n",
    "    src = os.path.join(original_dataset_dir, fname)\n",
    "    dst = os.path.join(train_dogs_dir, fname)\n",
    "    shutil.copyfile(src, dst)\n",
    "    \n",
    "# 다음 500개 강아지 이미지를 validation_dogs_dir에 복사합니다\n",
    "fnames = ['dog.{}.jpg'.format(i) for i in range(1000, 1500)]\n",
    "for fname in fnames:\n",
    "    src = os.path.join(original_dataset_dir, fname)\n",
    "    dst = os.path.join(validation_dogs_dir, fname)\n",
    "    shutil.copyfile(src, dst)\n",
    "    \n",
    "# 다음 500개 강아지 이미지를 test_dogs_dir에 복사합니다\n",
    "fnames = ['dog.{}.jpg'.format(i) for i in range(1500, 2000)]\n",
    "for fname in fnames:\n",
    "    src = os.path.join(original_dataset_dir, fname)\n",
    "    dst = os.path.join(test_dogs_dir, fname)\n",
    "    shutil.copyfile(src, dst)"
   ]
  },
  {
   "cell_type": "code",
   "execution_count": 3,
   "metadata": {},
   "outputs": [],
   "source": [
    "os.environ[\"CUDA_VISIBLE_DEVICES\"]=\"2\""
   ]
  },
  {
   "cell_type": "code",
   "execution_count": 4,
   "metadata": {},
   "outputs": [
    {
     "name": "stderr",
     "output_type": "stream",
     "text": [
      "Using TensorFlow backend.\n"
     ]
    }
   ],
   "source": [
    "from keras import layers\n",
    "from keras import models\n",
    "\n",
    "model = models.Sequential()\n",
    "model.add(layers.Conv2D(32,(3,3),activation='relu', input_shape=(150,150,3)))\n",
    "model.add(layers.MaxPooling2D((2, 2)))\n",
    "model.add(layers.Conv2D(64, (3, 3), activation='relu'))\n",
    "model.add(layers.MaxPooling2D((2, 2)))\n",
    "model.add(layers.Conv2D(128, (3, 3), activation='relu'))\n",
    "model.add(layers.MaxPooling2D((2, 2)))\n",
    "model.add(layers.Conv2D(128, (3, 3), activation='relu'))\n",
    "model.add(layers.MaxPooling2D((2, 2)))\n",
    "model.add(layers.Flatten())\n",
    "model.add(layers.Dense(512, activation='relu'))\n",
    "model.add(layers.Dense(1, activation='sigmoid'))"
   ]
  },
  {
   "cell_type": "code",
   "execution_count": 5,
   "metadata": {},
   "outputs": [
    {
     "name": "stdout",
     "output_type": "stream",
     "text": [
      "_________________________________________________________________\n",
      "Layer (type)                 Output Shape              Param #   \n",
      "=================================================================\n",
      "conv2d_1 (Conv2D)            (None, 148, 148, 32)      896       \n",
      "_________________________________________________________________\n",
      "max_pooling2d_1 (MaxPooling2 (None, 74, 74, 32)        0         \n",
      "_________________________________________________________________\n",
      "conv2d_2 (Conv2D)            (None, 72, 72, 64)        18496     \n",
      "_________________________________________________________________\n",
      "max_pooling2d_2 (MaxPooling2 (None, 36, 36, 64)        0         \n",
      "_________________________________________________________________\n",
      "conv2d_3 (Conv2D)            (None, 34, 34, 128)       73856     \n",
      "_________________________________________________________________\n",
      "max_pooling2d_3 (MaxPooling2 (None, 17, 17, 128)       0         \n",
      "_________________________________________________________________\n",
      "conv2d_4 (Conv2D)            (None, 15, 15, 128)       147584    \n",
      "_________________________________________________________________\n",
      "max_pooling2d_4 (MaxPooling2 (None, 7, 7, 128)         0         \n",
      "_________________________________________________________________\n",
      "flatten_1 (Flatten)          (None, 6272)              0         \n",
      "_________________________________________________________________\n",
      "dense_1 (Dense)              (None, 512)               3211776   \n",
      "_________________________________________________________________\n",
      "dense_2 (Dense)              (None, 1)                 513       \n",
      "=================================================================\n",
      "Total params: 3,453,121\n",
      "Trainable params: 3,453,121\n",
      "Non-trainable params: 0\n",
      "_________________________________________________________________\n"
     ]
    }
   ],
   "source": [
    "model.summary()"
   ]
  },
  {
   "cell_type": "code",
   "execution_count": 6,
   "metadata": {},
   "outputs": [],
   "source": [
    "from keras import optimizers\n",
    "\n",
    "model.compile(loss='binary_crossentropy',\n",
    "             optimizer=optimizers.RMSprop(lr=1e-4),\n",
    "             metrics=['acc'])"
   ]
  },
  {
   "cell_type": "code",
   "execution_count": 7,
   "metadata": {},
   "outputs": [
    {
     "name": "stdout",
     "output_type": "stream",
     "text": [
      "Found 2000 images belonging to 2 classes.\n",
      "Found 1000 images belonging to 2 classes.\n"
     ]
    }
   ],
   "source": [
    "from keras.preprocessing.image import ImageDataGenerator\n",
    "\n",
    "train_datagen = ImageDataGenerator(rescale=1./255)\n",
    "test_datagen = ImageDataGenerator(rescale=1./255)\n",
    "\n",
    "train_generator = train_datagen.flow_from_directory(train_dir,\n",
    "                                                    target_size=(150,150),\n",
    "                                                    batch_size=20,\n",
    "                                                    class_mode='binary')\n",
    "\n",
    "validation_generator = test_datagen.flow_from_directory(validation_dir,\n",
    "                                                       target_size=(150, 150),\n",
    "                                                       batch_size=20,\n",
    "                                                       class_mode='binary')"
   ]
  },
  {
   "cell_type": "code",
   "execution_count": 8,
   "metadata": {},
   "outputs": [
    {
     "name": "stdout",
     "output_type": "stream",
     "text": [
      "batch data size:  (20, 150, 150, 3)\n",
      "batch label size:  (20,)\n"
     ]
    }
   ],
   "source": [
    "for data_batch, labels_batch in train_generator:\n",
    "    print('batch data size: ', data_batch.shape)\n",
    "    print('batch label size: ',labels_batch.shape)\n",
    "    break"
   ]
  },
  {
   "cell_type": "code",
   "execution_count": 9,
   "metadata": {},
   "outputs": [
    {
     "name": "stdout",
     "output_type": "stream",
     "text": [
      "Epoch 1/30\n",
      "100/100 [==============================] - 9s 91ms/step - loss: 0.6878 - acc: 0.5490 - val_loss: 0.6701 - val_acc: 0.6040\n",
      "Epoch 2/30\n",
      "100/100 [==============================] - 7s 71ms/step - loss: 0.6564 - acc: 0.6115 - val_loss: 0.6562 - val_acc: 0.5920\n",
      "Epoch 3/30\n",
      "100/100 [==============================] - 8s 75ms/step - loss: 0.6174 - acc: 0.6535 - val_loss: 0.6081 - val_acc: 0.6640\n",
      "Epoch 4/30\n",
      "100/100 [==============================] - 8s 76ms/step - loss: 0.5642 - acc: 0.7030 - val_loss: 0.5804 - val_acc: 0.7030\n",
      "Epoch 5/30\n",
      "100/100 [==============================] - 7s 72ms/step - loss: 0.5214 - acc: 0.7295 - val_loss: 0.5719 - val_acc: 0.6900\n",
      "Epoch 6/30\n",
      "100/100 [==============================] - 7s 71ms/step - loss: 0.4895 - acc: 0.7625 - val_loss: 0.5862 - val_acc: 0.6940\n",
      "Epoch 7/30\n",
      "100/100 [==============================] - 7s 72ms/step - loss: 0.4574 - acc: 0.7835 - val_loss: 0.5642 - val_acc: 0.7000\n",
      "Epoch 8/30\n",
      "100/100 [==============================] - 7s 70ms/step - loss: 0.4295 - acc: 0.8005 - val_loss: 0.5603 - val_acc: 0.7130\n",
      "Epoch 9/30\n",
      "100/100 [==============================] - 7s 73ms/step - loss: 0.4030 - acc: 0.8130 - val_loss: 0.5802 - val_acc: 0.6920\n",
      "Epoch 10/30\n",
      "100/100 [==============================] - 7s 72ms/step - loss: 0.3814 - acc: 0.8290 - val_loss: 0.5827 - val_acc: 0.7030\n",
      "Epoch 11/30\n",
      "100/100 [==============================] - 7s 69ms/step - loss: 0.3554 - acc: 0.8410 - val_loss: 0.5928 - val_acc: 0.7010\n",
      "Epoch 12/30\n",
      "100/100 [==============================] - 7s 71ms/step - loss: 0.3266 - acc: 0.8595 - val_loss: 0.6468 - val_acc: 0.7160\n",
      "Epoch 13/30\n",
      "100/100 [==============================] - 7s 71ms/step - loss: 0.3042 - acc: 0.8715 - val_loss: 0.5906 - val_acc: 0.7140\n",
      "Epoch 14/30\n",
      "100/100 [==============================] - 8s 77ms/step - loss: 0.2726 - acc: 0.8885 - val_loss: 0.6059 - val_acc: 0.7190\n",
      "Epoch 15/30\n",
      "100/100 [==============================] - 7s 71ms/step - loss: 0.2481 - acc: 0.8990 - val_loss: 0.6244 - val_acc: 0.7300\n",
      "Epoch 16/30\n",
      "100/100 [==============================] - 7s 71ms/step - loss: 0.2248 - acc: 0.9140 - val_loss: 0.6661 - val_acc: 0.7180\n",
      "Epoch 17/30\n",
      "100/100 [==============================] - 7s 70ms/step - loss: 0.2065 - acc: 0.9200 - val_loss: 0.6433 - val_acc: 0.7330\n",
      "Epoch 18/30\n",
      "100/100 [==============================] - 7s 70ms/step - loss: 0.1749 - acc: 0.9400 - val_loss: 0.6694 - val_acc: 0.7180\n",
      "Epoch 19/30\n",
      "100/100 [==============================] - 7s 74ms/step - loss: 0.1601 - acc: 0.9440 - val_loss: 0.6706 - val_acc: 0.7330\n",
      "Epoch 20/30\n",
      "100/100 [==============================] - 7s 72ms/step - loss: 0.1338 - acc: 0.9555 - val_loss: 0.7426 - val_acc: 0.7340\n",
      "Epoch 21/30\n",
      "100/100 [==============================] - 7s 71ms/step - loss: 0.1169 - acc: 0.9585 - val_loss: 0.7352 - val_acc: 0.7220\n",
      "Epoch 22/30\n",
      "100/100 [==============================] - 7s 75ms/step - loss: 0.1001 - acc: 0.9670 - val_loss: 0.7746 - val_acc: 0.7280\n",
      "Epoch 23/30\n",
      "100/100 [==============================] - 8s 77ms/step - loss: 0.0878 - acc: 0.9705 - val_loss: 1.0193 - val_acc: 0.7060\n",
      "Epoch 24/30\n",
      "100/100 [==============================] - 7s 70ms/step - loss: 0.0723 - acc: 0.9790 - val_loss: 0.9230 - val_acc: 0.7090\n",
      "Epoch 25/30\n",
      "100/100 [==============================] - 7s 71ms/step - loss: 0.0608 - acc: 0.9840 - val_loss: 0.8870 - val_acc: 0.7320\n",
      "Epoch 26/30\n",
      "100/100 [==============================] - 7s 69ms/step - loss: 0.0501 - acc: 0.9855 - val_loss: 0.9472 - val_acc: 0.7370\n",
      "Epoch 27/30\n",
      "100/100 [==============================] - 7s 71ms/step - loss: 0.0438 - acc: 0.9865 - val_loss: 0.9812 - val_acc: 0.7330\n",
      "Epoch 28/30\n",
      "100/100 [==============================] - 7s 72ms/step - loss: 0.0359 - acc: 0.9895 - val_loss: 1.0699 - val_acc: 0.7090\n",
      "Epoch 29/30\n",
      "100/100 [==============================] - 8s 75ms/step - loss: 0.0318 - acc: 0.9915 - val_loss: 1.0962 - val_acc: 0.7270\n",
      "Epoch 30/30\n",
      "100/100 [==============================] - 7s 69ms/step - loss: 0.0211 - acc: 0.9955 - val_loss: 1.1712 - val_acc: 0.7270\n"
     ]
    }
   ],
   "source": [
    "history = model.fit_generator(train_generator,\n",
    "                             steps_per_epoch=100,\n",
    "                             epochs=30,\n",
    "                             validation_data=validation_generator,\n",
    "                             validation_steps=50)"
   ]
  },
  {
   "cell_type": "code",
   "execution_count": null,
   "metadata": {},
   "outputs": [],
   "source": []
  }
 ],
 "metadata": {
  "kernelspec": {
   "display_name": "Python 3",
   "language": "python",
   "name": "python3"
  },
  "language_info": {
   "codemirror_mode": {
    "name": "ipython",
    "version": 3
   },
   "file_extension": ".py",
   "mimetype": "text/x-python",
   "name": "python",
   "nbconvert_exporter": "python",
   "pygments_lexer": "ipython3",
   "version": "3.6.0"
  }
 },
 "nbformat": 4,
 "nbformat_minor": 2
}
